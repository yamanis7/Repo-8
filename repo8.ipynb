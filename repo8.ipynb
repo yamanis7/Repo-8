{
 "cells": [
  {
   "cell_type": "code",
   "execution_count": 8,
   "metadata": {},
   "outputs": [
    {
     "name": "stderr",
     "output_type": "stream",
     "text": [
      "[nltk_data] Downloading package punkt to\n",
      "[nltk_data]     C:\\Users\\LENOVO\\AppData\\Roaming\\nltk_data...\n",
      "[nltk_data]   Package punkt is already up-to-date!\n",
      "[nltk_data] Downloading package stopwords to\n",
      "[nltk_data]     C:\\Users\\LENOVO\\AppData\\Roaming\\nltk_data...\n",
      "[nltk_data]   Package stopwords is already up-to-date!\n"
     ]
    },
    {
     "data": {
      "text/plain": [
       "True"
      ]
     },
     "execution_count": 8,
     "metadata": {},
     "output_type": "execute_result"
    }
   ],
   "source": [
    "from sklearn.feature_extraction.text import CountVectorizer\n",
    "from sklearn.naive_bayes import MultinomialNB\n",
    "from sklearn.model_selection import train_test_split\n",
    "from sklearn.metrics import accuracy_score\n",
    "from nltk.tokenize import word_tokenize\n",
    "from nltk.stem import PorterStemmer\n",
    "from nltk.corpus import stopwords\n",
    "import nltk\n",
    "nltk.download('punkt')\n",
    "nltk.download('stopwords')"
   ]
  },
  {
   "cell_type": "code",
   "execution_count": 9,
   "metadata": {},
   "outputs": [],
   "source": [
    "# data\n",
    "documents = ['Timnas Indonesia gagal juara AFC',\n",
    "             'PSIS berburu juara Liga Indonesia',\n",
    "             'Partai politik Indonesia berburu suara ',\n",
    "             'Hasil putusan Sidang Elit Dewan',\n",
    "             'Harga cabai naik dipasar tradisional ',\n",
    "             'Upah minimum regional diprediksi naik']\n",
    "\n",
    "labels = ['Olahraga', 'Olahraga', 'Politik', 'Politk', 'Ekonomi', 'Ekonomi']\n",
    "\n",
    "# preprocessing\n",
    "def preprocess(text):\n",
    "    tokens = word_tokenize(text)\n",
    "    tokens = [word.lower() for word in tokens if word.isalpha()]\n",
    "    tokens = [word for word in tokens if word not in stopwords.words('indonesian')]\n",
    "    tokens = [PorterStemmer().stem(word) for word in tokens]\n",
    "    return ' '.join(tokens)\n",
    "\n",
    "preprocessed_documents = [preprocess(doc) for doc in documents]\n"
   ]
  },
  {
   "cell_type": "code",
   "execution_count": 12,
   "metadata": {},
   "outputs": [
    {
     "name": "stdout",
     "output_type": "stream",
     "text": [
      "Accuracy:  0.0\n"
     ]
    }
   ],
   "source": [
    "# vectorizing\n",
    "vectorizer = CountVectorizer()\n",
    "X = vectorizer.fit_transform(preprocessed_documents)\n",
    "\n",
    "# train-test split\n",
    "X_train, X_test, y_train, y_test = train_test_split(X, labels, test_size=0.2, random_state=42)\n",
    "\n",
    "# training model\n",
    "model = MultinomialNB()\n",
    "model.fit(X_train, y_train)\n",
    "\n",
    "# prediction\n",
    "predictions = model.predict(X_test)\n",
    "\n",
    "# evaluation\n",
    "print(\"Accuracy: \", accuracy_score(y_test, predictions))"
   ]
  },
  {
   "cell_type": "code",
   "execution_count": 13,
   "metadata": {},
   "outputs": [
    {
     "name": "stdout",
     "output_type": "stream",
     "text": [
      "Predicted label:  Ekonomi\n"
     ]
    }
   ],
   "source": [
    "def predict_label(doc):\n",
    "    # preprocess new document\n",
    "    preprocessed_doc = preprocess(doc)\n",
    "    \n",
    "    # vectorize new document\n",
    "    new_doc = vectorizer.transform([preprocessed_doc])\n",
    "    \n",
    "    # predict label\n",
    "    prediction = model.predict(new_doc)\n",
    "    \n",
    "    return prediction[0]\n",
    "\n",
    "new_document = 'Demo buruh menaikan upah minimum'\n",
    "print(\"Predicted label: \", predict_label(new_document))"
   ]
  }
 ],
 "metadata": {
  "kernelspec": {
   "display_name": "Python 3",
   "language": "python",
   "name": "python3"
  },
  "language_info": {
   "codemirror_mode": {
    "name": "ipython",
    "version": 3
   },
   "file_extension": ".py",
   "mimetype": "text/x-python",
   "name": "python",
   "nbconvert_exporter": "python",
   "pygments_lexer": "ipython3",
   "version": "3.11.2"
  }
 },
 "nbformat": 4,
 "nbformat_minor": 2
}
